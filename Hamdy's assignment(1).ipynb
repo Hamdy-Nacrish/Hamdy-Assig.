{
 "cells": [
  {
   "cell_type": "markdown",
   "metadata": {
    "id": "WNEWD9hoA2Lr"
   },
   "source": [
    "<img src=\"https://i.redd.it/6brfmxf7b8ga1.png\" alt=\"Italian Trulli\">\n"
   ]
  },
  {
   "cell_type": "markdown",
   "metadata": {
    "id": "ev3RXIw1Jas5"
   },
   "source": [
    "### Exercise on data types"
   ]
  },
  {
   "cell_type": "markdown",
   "metadata": {
    "id": "xSe8nXGyJs_j"
   },
   "source": [
    "## <font color='red'>What data type would that be?</font>"
   ]
  },
  {
   "cell_type": "markdown",
   "metadata": {
    "id": "j_-RJr75JlQr"
   },
   "source": [
    "#### x = 5\n",
    "#### print(type(x))"
   ]
  },
  {
   "cell_type": "code",
   "execution_count": 1,
   "metadata": {},
   "outputs": [],
   "source": [
    "# x is integer"
   ]
  },
  {
   "cell_type": "markdown",
   "metadata": {
    "id": "9vglOoDPJ5Ou"
   },
   "source": [
    "#### x = \"Hello World\"\n",
    "#### print(type(x))\n"
   ]
  },
  {
   "cell_type": "code",
   "execution_count": 2,
   "metadata": {},
   "outputs": [],
   "source": [
    "# string"
   ]
  },
  {
   "cell_type": "markdown",
   "metadata": {
    "id": "luhdBZJkKDMT"
   },
   "source": [
    "#### x = 20.5\n",
    "#### print(type(x))"
   ]
  },
  {
   "cell_type": "code",
   "execution_count": 3,
   "metadata": {},
   "outputs": [],
   "source": [
    "# Float"
   ]
  },
  {
   "cell_type": "markdown",
   "metadata": {
    "id": "N8OO1mGhKC9u"
   },
   "source": [
    "#### x = [\"apple\", \"banana\", \"cherry\"]\n",
    "#### print(type(x))"
   ]
  },
  {
   "cell_type": "code",
   "execution_count": 4,
   "metadata": {},
   "outputs": [],
   "source": [
    "# list"
   ]
  },
  {
   "cell_type": "markdown",
   "metadata": {
    "id": "cvV5m5_FKC2Y"
   },
   "source": [
    "#### x = (\"apple\", \"banana\", \"cherry\")\n",
    "#### print(type(x))"
   ]
  },
  {
   "cell_type": "code",
   "execution_count": 5,
   "metadata": {},
   "outputs": [],
   "source": [
    "# tuple"
   ]
  },
  {
   "cell_type": "markdown",
   "metadata": {
    "id": "v6tA1ZLGKSej"
   },
   "source": [
    "#### x = {\"name\" : \"John\", \"age\" : 36}\n",
    "#### print(type(x))"
   ]
  },
  {
   "cell_type": "code",
   "execution_count": 6,
   "metadata": {},
   "outputs": [],
   "source": [
    "# dictionary"
   ]
  },
  {
   "cell_type": "markdown",
   "metadata": {
    "id": "sWMa3--SKbOz"
   },
   "source": [
    "#### x = True\n",
    "#### print(type(x))"
   ]
  },
  {
   "cell_type": "code",
   "execution_count": 7,
   "metadata": {},
   "outputs": [],
   "source": [
    "# boolean"
   ]
  },
  {
   "cell_type": "markdown",
   "metadata": {
    "id": "cV1O8CWnOD_A"
   },
   "source": [
    "## Exercise on Numbers"
   ]
  },
  {
   "cell_type": "markdown",
   "metadata": {
    "id": "66MX7NUrMOj9"
   },
   "source": [
    "#### Insert the correct syntax to convert x into a floating point number.\n",
    "\n"
   ]
  },
  {
   "cell_type": "code",
   "execution_count": 8,
   "metadata": {
    "id": "mbA3Hg9WKz4S"
   },
   "outputs": [],
   "source": [
    "# x = 5\n",
    "# x =....(x)\n",
    "# print(x)"
   ]
  },
  {
   "cell_type": "code",
   "execution_count": 9,
   "metadata": {},
   "outputs": [
    {
     "data": {
      "text/plain": [
       "5"
      ]
     },
     "execution_count": 9,
     "metadata": {},
     "output_type": "execute_result"
    }
   ],
   "source": [
    "X=5\n",
    "X"
   ]
  },
  {
   "cell_type": "code",
   "execution_count": 10,
   "metadata": {},
   "outputs": [
    {
     "data": {
      "text/plain": [
       "5.0"
      ]
     },
     "execution_count": 10,
     "metadata": {},
     "output_type": "execute_result"
    }
   ],
   "source": [
    "X=float(X)\n",
    "X"
   ]
  },
  {
   "cell_type": "markdown",
   "metadata": {
    "id": "PfSGwBekMbfe"
   },
   "source": [
    "### Insert the correct syntax to convert x into a integer.\n",
    "\n"
   ]
  },
  {
   "cell_type": "code",
   "execution_count": 11,
   "metadata": {
    "id": "4u7ID11XMZ1z"
   },
   "outputs": [],
   "source": [
    "# x = 5.5\n",
    "# x =......(x)\n",
    "# print(x)"
   ]
  },
  {
   "cell_type": "code",
   "execution_count": 12,
   "metadata": {},
   "outputs": [
    {
     "data": {
      "text/plain": [
       "5"
      ]
     },
     "execution_count": 12,
     "metadata": {},
     "output_type": "execute_result"
    }
   ],
   "source": [
    "Y=5.5\n",
    "Y=int(Y)\n",
    "Y"
   ]
  },
  {
   "cell_type": "markdown",
   "metadata": {
    "id": "QEHJkfIyOI3l"
   },
   "source": [
    "## Exercise on string"
   ]
  },
  {
   "cell_type": "markdown",
   "metadata": {
    "id": "vxDMzNuZM23J"
   },
   "source": [
    "### Use the `len()` function to print the length of the string.\n",
    "\n"
   ]
  },
  {
   "cell_type": "code",
   "execution_count": 13,
   "metadata": {
    "id": "LnECWV7kMwtZ"
   },
   "outputs": [],
   "source": [
    "# x = \"Hello World\"\n",
    "# print(.........)"
   ]
  },
  {
   "cell_type": "code",
   "execution_count": 42,
   "metadata": {},
   "outputs": [
    {
     "data": {
      "text/plain": [
       "11"
      ]
     },
     "execution_count": 42,
     "metadata": {},
     "output_type": "execute_result"
    }
   ],
   "source": [
    "x= \"Hello world\"\n",
    "y= len(x)\n",
    "y"
   ]
  },
  {
   "cell_type": "markdown",
   "metadata": {
    "id": "B3G8CsbwNBzE"
   },
   "source": [
    "### Get the first character of the string txt.\n",
    "\n"
   ]
  },
  {
   "cell_type": "code",
   "execution_count": 14,
   "metadata": {
    "id": "i82C_E7IM_N_"
   },
   "outputs": [],
   "source": [
    "# txt = \"Hello World\"\n",
    "# x = .........."
   ]
  },
  {
   "cell_type": "code",
   "execution_count": 50,
   "metadata": {},
   "outputs": [
    {
     "name": "stdout",
     "output_type": "stream",
     "text": [
      "H\n"
     ]
    }
   ],
   "source": [
    "txt= \"Hello world\"\n",
    "print(txt[0])"
   ]
  },
  {
   "cell_type": "markdown",
   "metadata": {
    "id": "eujFCvXmNKL5"
   },
   "source": [
    "### Get the characters from index 2 to index 4 (llo).\n",
    "\n"
   ]
  },
  {
   "cell_type": "code",
   "execution_count": 15,
   "metadata": {
    "id": "Spath1coNHS1"
   },
   "outputs": [],
   "source": [
    "# txt = \"Hello World\"\n",
    "#  x =........"
   ]
  },
  {
   "cell_type": "code",
   "execution_count": 51,
   "metadata": {},
   "outputs": [
    {
     "name": "stdout",
     "output_type": "stream",
     "text": [
      "llo\n"
     ]
    }
   ],
   "source": [
    "txt= \"Hello world\"\n",
    "print(txt[2:5])"
   ]
  },
  {
   "cell_type": "markdown",
   "metadata": {
    "id": "Rwv-8T_-NmeZ"
   },
   "source": [
    "##### Return the string without any whitespace at the beginning or the end.\n",
    "##### hint ` txt.strip()`\n"
   ]
  },
  {
   "cell_type": "code",
   "execution_count": 16,
   "metadata": {
    "id": "pg7InD_MNgBU"
   },
   "outputs": [],
   "source": [
    "# txt = \" Hello World \"\n",
    "# x =.................."
   ]
  },
  {
   "cell_type": "code",
   "execution_count": 54,
   "metadata": {},
   "outputs": [
    {
     "name": "stdout",
     "output_type": "stream",
     "text": [
      "Hello world\n"
     ]
    }
   ],
   "source": [
    "txt= \"Hello world\"\n",
    "print(txt.strip())"
   ]
  },
  {
   "cell_type": "markdown",
   "metadata": {
    "id": "gpoiVkmQOSc2"
   },
   "source": [
    "### Convert the value of `txt` to upper case.\n",
    "\n"
   ]
  },
  {
   "cell_type": "code",
   "execution_count": 17,
   "metadata": {
    "id": "30sq8_UBOPpH"
   },
   "outputs": [],
   "source": [
    "# txt = \"Hello World\"\n",
    "# txt = ........\n"
   ]
  },
  {
   "cell_type": "code",
   "execution_count": 58,
   "metadata": {},
   "outputs": [
    {
     "data": {
      "text/plain": [
       "'HELLO WORLD'"
      ]
     },
     "execution_count": 58,
     "metadata": {},
     "output_type": "execute_result"
    }
   ],
   "source": [
    "txt= \"hello world\"\n",
    "txt.upper()"
   ]
  },
  {
   "cell_type": "markdown",
   "metadata": {
    "id": "-UpA2zFdOedr"
   },
   "source": [
    "### Convert the value of `txt` to lower case.\n",
    "\n"
   ]
  },
  {
   "cell_type": "code",
   "execution_count": 18,
   "metadata": {
    "id": "eIYJ6Jp2OclU"
   },
   "outputs": [],
   "source": [
    "# txt = \"Hello World\"\n",
    "# txt = .........\n"
   ]
  },
  {
   "cell_type": "code",
   "execution_count": 59,
   "metadata": {},
   "outputs": [
    {
     "data": {
      "text/plain": [
       "'hello world'"
      ]
     },
     "execution_count": 59,
     "metadata": {},
     "output_type": "execute_result"
    }
   ],
   "source": [
    "txt= \"Hello world\"\n",
    "txt.lower()"
   ]
  },
  {
   "cell_type": "markdown",
   "metadata": {
    "id": "WGC7GEv4Op57"
   },
   "source": [
    "#### Replace the character` H` with a `J`"
   ]
  },
  {
   "cell_type": "code",
   "execution_count": 19,
   "metadata": {
    "id": "asaMSta8OuXu"
   },
   "outputs": [],
   "source": [
    "# txt = \"Hello World\"\n",
    "# txt = txt. .......(...,... )"
   ]
  },
  {
   "cell_type": "code",
   "execution_count": 60,
   "metadata": {},
   "outputs": [
    {
     "data": {
      "text/plain": [
       "'Jello world'"
      ]
     },
     "execution_count": 60,
     "metadata": {},
     "output_type": "execute_result"
    }
   ],
   "source": [
    "txt= \"Hello world\"\n",
    "txt.replace(\"H\",\"J\")"
   ]
  },
  {
   "cell_type": "markdown",
   "metadata": {
    "id": "fx_3gDLmO9c5"
   },
   "source": [
    "#### Insert the correct syntax to add a placeholder for the age parameter.\n",
    "\n"
   ]
  },
  {
   "cell_type": "code",
   "execution_count": 20,
   "metadata": {
    "id": "pbF00OzXO_pd"
   },
   "outputs": [],
   "source": [
    "# age = 36\n",
    "# txt = f\"My name is John, and I am ......\"\n",
    "# print(txt)"
   ]
  },
  {
   "cell_type": "code",
   "execution_count": 62,
   "metadata": {},
   "outputs": [
    {
     "name": "stdout",
     "output_type": "stream",
     "text": [
      "my name is John and i am 36\n"
     ]
    }
   ],
   "source": [
    "H=36\n",
    "print(f\"my name is John and i am {H}\")"
   ]
  },
  {
   "cell_type": "markdown",
   "metadata": {
    "id": "aMfwLHLFQJt5"
   },
   "source": [
    "### Exercise on Booleans"
   ]
  },
  {
   "cell_type": "markdown",
   "metadata": {
    "id": "5LwqGd-4X6fz"
   },
   "source": [
    "The statement below would print a Boolean value, which one?\n",
    "\n"
   ]
  },
  {
   "cell_type": "code",
   "execution_count": 21,
   "metadata": {
    "id": "KE6bHyeFXwy_"
   },
   "outputs": [],
   "source": [
    "# print(10 > 9)\n",
    "# ..............True"
   ]
  },
  {
   "cell_type": "markdown",
   "metadata": {
    "id": "5qq9bEvzX8d4"
   },
   "source": [
    "The statement below would print a Boolean value, which one?\n",
    "\n"
   ]
  },
  {
   "cell_type": "code",
   "execution_count": 22,
   "metadata": {
    "id": "36MAoCaZX2k9"
   },
   "outputs": [],
   "source": [
    "# print(10 == 9)\n",
    "# ............ False"
   ]
  },
  {
   "cell_type": "markdown",
   "metadata": {
    "id": "I9flckHvYFLD"
   },
   "source": [
    "The statement below would print a Boolean value, which one?\n",
    "\n"
   ]
  },
  {
   "cell_type": "code",
   "execution_count": 23,
   "metadata": {
    "id": "vRTYkmrrYDcl"
   },
   "outputs": [],
   "source": [
    "# print(10 < 9)\n",
    "# .......... False\n"
   ]
  },
  {
   "cell_type": "markdown",
   "metadata": {
    "id": "JRDSFOOWA4zY"
   },
   "source": [
    "### <font color='gold'>Exercise-1</font>"
   ]
  },
  {
   "cell_type": "markdown",
   "metadata": {
    "id": "Dx9awHoPBT5a"
   },
   "source": [
    "#### Write a Python program to print the following string in a specific format"
   ]
  },
  {
   "cell_type": "code",
   "execution_count": 24,
   "metadata": {
    "id": "gfBPq-8u_zDb"
   },
   "outputs": [],
   "source": [
    "# Twinkle, twinkle, little star,\n",
    "# \tHow I wonder what you are!\n",
    "# \t\tUp above the world so high,\n",
    "# \t\tLike a diamond in the sky.\n",
    "# Twinkle, twinkle, little star,\n",
    "# \tHow I wonder what you are!"
   ]
  },
  {
   "cell_type": "code",
   "execution_count": 63,
   "metadata": {
    "id": "5HUhakyeBfAH"
   },
   "outputs": [
    {
     "name": "stdout",
     "output_type": "stream",
     "text": [
      "Twinkle, twinkle, little star, \n",
      "\tHow I wonder what you are! \n",
      "\t\tUp above the world so high, \n",
      "\t\tLike a diamond in the sky. \n",
      "Twinkle, twinkle, little star, \n",
      "\tHow I wonder what you are!\n"
     ]
    }
   ],
   "source": [
    "print(\"Twinkle, twinkle, little star, \\n\\tHow I wonder what you are! \\n\\t\\tUp above the world so high, \\n\\t\\tLike a diamond in the sky. \\nTwinkle, twinkle, little star, \\n\\tHow I wonder what you are!\")\n"
   ]
  },
  {
   "cell_type": "markdown",
   "metadata": {
    "id": "G-u5KbN6B4YA"
   },
   "source": [
    "### <font color='gold'>Exercise-2</font>"
   ]
  },
  {
   "cell_type": "markdown",
   "metadata": {
    "id": "1bEAep2SCDB2"
   },
   "source": [
    "#### Write a Python program that print the user's first and last name and prints them in reverse order with a space between them."
   ]
  },
  {
   "cell_type": "code",
   "execution_count": 26,
   "metadata": {
    "id": "cCiE7XPOCNJo"
   },
   "outputs": [
    {
     "name": "stdout",
     "output_type": "stream",
     "text": [
      "Hello  Ezz Mohamed\n"
     ]
    }
   ],
   "source": [
    "fname =\"Mohamed\"\n",
    "lname = \"Ezz\"\n",
    "print(\"Hello  \" + lname + \" \" + fname)"
   ]
  },
  {
   "cell_type": "code",
   "execution_count": 67,
   "metadata": {},
   "outputs": [
    {
     "name": "stdout",
     "output_type": "stream",
     "text": [
      " Hello!, I'm, Nacrish Hamdy\n"
     ]
    }
   ],
   "source": [
    "A= \"Hamdy\"\n",
    "B= \"Nacrish\"\n",
    "print(f\" Hello!, I'm, {B} {A}\")"
   ]
  },
  {
   "cell_type": "markdown",
   "metadata": {
    "id": "VIq-DlzYCjcp"
   },
   "source": [
    "### <font color='gold'>Exercise-3</font>"
   ]
  },
  {
   "cell_type": "markdown",
   "metadata": {
    "id": "W2i_oZiJCg4W"
   },
   "source": [
    "#### Write a Python program that calculates the area of a circle and radius = 1.1"
   ]
  },
  {
   "cell_type": "code",
   "execution_count": 68,
   "metadata": {
    "id": "egRurHL8CN6K"
   },
   "outputs": [
    {
     "name": "stdout",
     "output_type": "stream",
     "text": [
      "The area of the circle with radius 1.1 is: 3.7994000000000008\n"
     ]
    }
   ],
   "source": [
    "r = 1.1\n",
    "area = 3.14 * r ** 2\n",
    "print(\"The area of the circle with radius \" + str(r) + \" is: \" + str(area))"
   ]
  },
  {
   "cell_type": "code",
   "execution_count": 82,
   "metadata": {},
   "outputs": [
    {
     "name": "stdout",
     "output_type": "stream",
     "text": [
      "the volume of Cylinder with ridus (1)  and Hight (3) is 11.398200000000001\n"
     ]
    }
   ],
   "source": [
    "R=1\n",
    "H=3\n",
    "V=3.14*H*r**2\n",
    "print(\"the volume of Cylinder with ridus (\" +str(R)+ \")  and Hight (\" +str(H)+ \") is \"  + str(V)) "
   ]
  },
  {
   "cell_type": "markdown",
   "metadata": {
    "id": "3k4J4MTrDTTP"
   },
   "source": [
    "### <font color='gold'>Exercise-4</font>"
   ]
  },
  {
   "cell_type": "markdown",
   "metadata": {
    "id": "bODhD33ADPPZ"
   },
   "source": [
    "#### Write a Python program that accepts a filename from the user and prints the extension of the file."
   ]
  },
  {
   "cell_type": "markdown",
   "metadata": {
    "id": "IjgH1FN-DYQQ"
   },
   "source": [
    "Sample Output:\n",
    "Input the Filename: abc.java                                                                                  \n",
    "The  extension of the file is : 'java'"
   ]
  },
  {
   "cell_type": "code",
   "execution_count": 28,
   "metadata": {
    "id": "w64nEV9WC-C-"
   },
   "outputs": [
    {
     "name": "stdout",
     "output_type": "stream",
     "text": [
      "The extension of the file is : py\n"
     ]
    }
   ],
   "source": [
    "filename = \"abc.py\"\n",
    "f_extns = filename.split(\".\")\n",
    "print(\"The extension of the file is : \" + f_extns[-1])"
   ]
  },
  {
   "cell_type": "code",
   "execution_count": 84,
   "metadata": {},
   "outputs": [
    {
     "name": "stdout",
     "output_type": "stream",
     "text": [
      "The extension of the file is : PDF\n"
     ]
    }
   ],
   "source": [
    "filename=\"X.PDF\"\n",
    "f_extns=filename.split(\".\")\n",
    "print(\"The extension of the file is : \" +f_extns[-1])"
   ]
  },
  {
   "cell_type": "markdown",
   "metadata": {
    "id": "hBSeDAHcEGPC"
   },
   "source": [
    "### <font color='gold'>Exercise-5</font>"
   ]
  },
  {
   "cell_type": "markdown",
   "metadata": {
    "id": "gnuQ4Hx2D722"
   },
   "source": [
    "### Covert from string to list and tuple"
   ]
  },
  {
   "cell_type": "code",
   "execution_count": 29,
   "metadata": {
    "id": "lQc_tBTaDko9"
   },
   "outputs": [
    {
     "name": "stdout",
     "output_type": "stream",
     "text": [
      "List :  ['A', 'm', 'i', 't']\n",
      "Tuple :  ('A', 'm', 'i', 't')\n"
     ]
    }
   ],
   "source": [
    "values =\"Amit\"\n",
    "tuple1 = tuple(values)\n",
    "list1=list(values)\n",
    "print('List : ', list1)\n",
    "print('Tuple : ', tuple1)"
   ]
  },
  {
   "cell_type": "code",
   "execution_count": 98,
   "metadata": {},
   "outputs": [
    {
     "ename": "TypeError",
     "evalue": "'tuple' object is not callable",
     "output_type": "error",
     "traceback": [
      "\u001b[1;31m---------------------------------------------------------------------------\u001b[0m",
      "\u001b[1;31mTypeError\u001b[0m                                 Traceback (most recent call last)",
      "Cell \u001b[1;32mIn[98], line 2\u001b[0m\n\u001b[0;32m      1\u001b[0m name\u001b[38;5;241m=\u001b[39m \u001b[38;5;124m\"\u001b[39m\u001b[38;5;124mHamdy Nacrish\u001b[39m\u001b[38;5;124m\"\u001b[39m\n\u001b[1;32m----> 2\u001b[0m tup1\u001b[38;5;241m=\u001b[39m\u001b[38;5;28mtuple\u001b[39m(name)\n\u001b[0;32m      3\u001b[0m list1\u001b[38;5;241m=\u001b[39m\u001b[38;5;28mlist\u001b[39m(name)\n\u001b[0;32m      4\u001b[0m \u001b[38;5;28mprint\u001b[39m(\u001b[38;5;124m\"\u001b[39m\u001b[38;5;124mlist:\u001b[39m\u001b[38;5;124m\"\u001b[39m, list1)\n",
      "\u001b[1;31mTypeError\u001b[0m: 'tuple' object is not callable"
     ]
    }
   ],
   "source": [
    "name= \"Hamdy Nacrish\"\n",
    "tup1=tuple(name)\n",
    "list1=list(name)\n",
    "print(\"list:\", list1)\n"
   ]
  },
  {
   "cell_type": "markdown",
   "metadata": {
    "id": "OQbk5DiyEosj"
   },
   "source": [
    " ## After that"
   ]
  },
  {
   "cell_type": "markdown",
   "metadata": {
    "id": "40fcwVkKEzUl"
   },
   "source": [
    "### Relace the index 3 in the list"
   ]
  },
  {
   "cell_type": "code",
   "execution_count": 30,
   "metadata": {
    "id": "8BMQQy2PEoKN"
   },
   "outputs": [
    {
     "name": "stdout",
     "output_type": "stream",
     "text": [
      "['A', 'm', 'i', 'E']\n"
     ]
    }
   ],
   "source": [
    "list1[3]=\"E\"\n",
    "print(list1)"
   ]
  },
  {
   "cell_type": "markdown",
   "metadata": {
    "id": "Ka4ECE3nFBzU"
   },
   "source": [
    " ### Convert the list to string"
   ]
  },
  {
   "cell_type": "code",
   "execution_count": 31,
   "metadata": {
    "id": "766AhoHsFNzx"
   },
   "outputs": [
    {
     "name": "stdout",
     "output_type": "stream",
     "text": [
      "AmiE\n"
     ]
    }
   ],
   "source": [
    "x=\"\".join(list1)\n",
    "print((x))"
   ]
  },
  {
   "cell_type": "markdown",
   "metadata": {
    "id": "lpeuOl7cFmn4"
   },
   "source": [
    "### <font color='gold'>Exercise-6</font>"
   ]
  },
  {
   "cell_type": "markdown",
   "metadata": {
    "id": "RuREUX33FqQZ"
   },
   "source": [
    "#### Write a Python program to display the first and last colors from the following list.\n",
    "\n"
   ]
  },
  {
   "cell_type": "markdown",
   "metadata": {
    "id": "53ptUyHGFt9I"
   },
   "source": [
    "#### color_list = [\"Red\",\"Green\",\"White\" ,\"Black\"]\n",
    "\n"
   ]
  },
  {
   "cell_type": "markdown",
   "metadata": {
    "id": "Jl5tkntZGH4P"
   },
   "source": [
    "<img src=\"https://www.w3resource.com/w3r_images/python-basic-image-exercise-8.png\" alt=\"Italian Trulli\">\n"
   ]
  },
  {
   "cell_type": "code",
   "execution_count": 32,
   "metadata": {
    "id": "xv7E1OjxFj9_"
   },
   "outputs": [
    {
     "name": "stdout",
     "output_type": "stream",
     "text": [
      "('Red', 'Black')\n"
     ]
    }
   ],
   "source": [
    "color_list = [\"Red\", \"Green\", \"White\", \"Black\"]\n",
    "print((color_list[0], color_list[-1]))"
   ]
  },
  {
   "cell_type": "markdown",
   "metadata": {
    "id": "N7XOS7s1GlYW"
   },
   "source": [
    "## <font color='gold'>Exercise-7</font>"
   ]
  },
  {
   "cell_type": "markdown",
   "metadata": {
    "id": "atL1CkPLGhLS"
   },
   "source": [
    "#### Write a Python program to print the following 'here document'.\n",
    "\n"
   ]
  },
  {
   "cell_type": "code",
   "execution_count": 33,
   "metadata": {
    "id": "YcD6QUiSGgq0"
   },
   "outputs": [],
   "source": [
    "#Sample Output:\n",
    "# a string that you \"don't\" have to escape\n",
    "# This\n",
    "# is a  ....... multi-line\n",
    "# heredoc string --------> example"
   ]
  },
  {
   "cell_type": "code",
   "execution_count": 34,
   "metadata": {
    "id": "Hmn9ls7BEbLr"
   },
   "outputs": [
    {
     "name": "stdout",
     "output_type": "stream",
     "text": [
      "\n",
      "a string that you \"don't\" have to escape\n",
      "This\n",
      "is a  ....... multi-line\n",
      "heredoc string --------> example\n",
      "\n"
     ]
    }
   ],
   "source": [
    "print(\"\"\"\n",
    "a string that you \"don't\" have to escape\n",
    "This\n",
    "is a  ....... multi-line\n",
    "heredoc string --------> example\n",
    "\"\"\")"
   ]
  },
  {
   "cell_type": "markdown",
   "metadata": {
    "id": "SKIslbDPHPbG"
   },
   "source": [
    "### Other solution"
   ]
  },
  {
   "cell_type": "code",
   "execution_count": 35,
   "metadata": {
    "id": "Xo4DWzHvHJ5b"
   },
   "outputs": [
    {
     "name": "stdout",
     "output_type": "stream",
     "text": [
      "astring that you don't have to escape\n",
      "This\n",
      "is a   ....... multi-lineheredoc\n",
      "string --------> example\n"
     ]
    }
   ],
   "source": [
    "print('astring that you don\\'t have to escape\\nThis\\nis a   ....... multi-lineheredoc\\nstring --------> example')"
   ]
  },
  {
   "cell_type": "markdown",
   "metadata": {
    "id": "xr95Xs_ecPet"
   },
   "source": [
    "## <font color='gold'>Exercise- 8</font>"
   ]
  },
  {
   "cell_type": "markdown",
   "metadata": {
    "id": "oINe0RSxcPet"
   },
   "source": [
    "###### I need to  check if  link `https://www.google.com/` strart with https or not and if the ` aimt4536@gmail.com` end with .com"
   ]
  },
  {
   "cell_type": "code",
   "execution_count": 36,
   "metadata": {
    "id": "eSyUsgT4cPet"
   },
   "outputs": [
    {
     "name": "stdout",
     "output_type": "stream",
     "text": [
      "True\n",
      "True\n"
     ]
    }
   ],
   "source": [
    "x='https://www.google.com/'\n",
    "print(x.startswith(\"https\"))\n",
    "y=\"adsadasda@gmail.com\"\n",
    "print(y.endswith(\".com\"))"
   ]
  },
  {
   "cell_type": "code",
   "execution_count": 37,
   "metadata": {
    "id": "6QCVs8qJHfNm"
   },
   "outputs": [
    {
     "name": "stdout",
     "output_type": "stream",
     "text": [
      "['mohamed']\n"
     ]
    }
   ],
   "source": [
    "value=\"mohamed\"\n",
    "print([value])"
   ]
  },
  {
   "cell_type": "code",
   "execution_count": null,
   "metadata": {
    "id": "wllOJBBvcPet"
   },
   "outputs": [],
   "source": []
  }
 ],
 "metadata": {
  "colab": {
   "private_outputs": true,
   "provenance": []
  },
  "kernelspec": {
   "display_name": "Python 3 (ipykernel)",
   "language": "python",
   "name": "python3"
  },
  "language_info": {
   "codemirror_mode": {
    "name": "ipython",
    "version": 3
   },
   "file_extension": ".py",
   "mimetype": "text/x-python",
   "name": "python",
   "nbconvert_exporter": "python",
   "pygments_lexer": "ipython3",
   "version": "3.11.7"
  }
 },
 "nbformat": 4,
 "nbformat_minor": 4
}
